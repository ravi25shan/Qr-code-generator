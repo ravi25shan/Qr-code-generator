{
 "cells": [
  {
   "cell_type": "code",
   "execution_count": 4,
   "metadata": {},
   "outputs": [
    {
     "ename": "TypeError",
     "evalue": "'PilImage' object is not callable",
     "output_type": "error",
     "traceback": [
      "\u001b[1;31m---------------------------------------------------------------------------\u001b[0m",
      "\u001b[1;31mTypeError\u001b[0m                                 Traceback (most recent call last)",
      "\u001b[1;32m<ipython-input-4-129a0171d878>\u001b[0m in \u001b[0;36m<module>\u001b[1;34m\u001b[0m\n\u001b[0;32m     16\u001b[0m \u001b[1;31m# saving the QR code image\u001b[0m\u001b[1;33m\u001b[0m\u001b[1;33m\u001b[0m\u001b[1;33m\u001b[0m\u001b[0m\n\u001b[0;32m     17\u001b[0m \u001b[1;31m#qr_img.save(\"qr-img1.png\")\u001b[0m\u001b[1;33m\u001b[0m\u001b[1;33m\u001b[0m\u001b[1;33m\u001b[0m\u001b[0m\n\u001b[1;32m---> 18\u001b[1;33m \u001b[0mprint\u001b[0m\u001b[1;33m(\u001b[0m\u001b[0mqr_img\u001b[0m\u001b[1;33m(\u001b[0m\u001b[1;33m)\u001b[0m\u001b[1;33m)\u001b[0m\u001b[1;33m\u001b[0m\u001b[1;33m\u001b[0m\u001b[0m\n\u001b[0m",
      "\u001b[1;31mTypeError\u001b[0m: 'PilImage' object is not callable"
     ]
    }
   ],
   "source": [
    "# importing the qrcode module  \n",
    "import qrcode  \n",
    "# creating a QRCode object  \n",
    "obj_qr = qrcode.QRCode(  \n",
    "    version = 1,  \n",
    "    error_correction = qrcode.constants.ERROR_CORRECT_L,  \n",
    "    box_size = 15,  \n",
    "    border = 4,  \n",
    ")  \n",
    "# using the add_data() function \n",
    "obj_qr.add_data(\"https://www.kaggle.com/code/dronax/car-prices-dataset/notebook\")  \n",
    "\n",
    "# using the make() function  \n",
    "obj_qr.make(fit = True)  \n",
    "\n",
    "# using the make_image() function  \n",
    "qr_img = obj_qr.make_image(fill_color = \"cyan\", back_color = \"black\")  \n",
    "\n",
    "# saving the QR code image  \n",
    "qr_img.save(\"qr-img1.png\")  \n"
   ]
  },
  {
   "cell_type": "code",
   "execution_count": null,
   "metadata": {},
   "outputs": [],
   "source": []
  }
 ],
 "metadata": {
  "kernelspec": {
   "display_name": "Python 3",
   "language": "python",
   "name": "python3"
  },
  "language_info": {
   "codemirror_mode": {
    "name": "ipython",
    "version": 3
   },
   "file_extension": ".py",
   "mimetype": "text/x-python",
   "name": "python",
   "nbconvert_exporter": "python",
   "pygments_lexer": "ipython3",
   "version": "3.8.5"
  }
 },
 "nbformat": 4,
 "nbformat_minor": 4
}
